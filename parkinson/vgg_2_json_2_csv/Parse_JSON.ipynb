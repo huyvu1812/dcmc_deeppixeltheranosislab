{
 "cells": [
  {
   "cell_type": "code",
   "execution_count": 1,
   "metadata": {},
   "outputs": [],
   "source": [
    "import json\n",
    "import pandas as pd\n",
    "from pandas import DataFrame\n",
    "import numpy as np\n"
   ]
  },
  {
   "cell_type": "code",
   "execution_count": 2,
   "metadata": {},
   "outputs": [],
   "source": [
    "with open('larynx.json') as f:\n",
    "    data = json.load(f)"
   ]
  },
  {
   "cell_type": "code",
   "execution_count": 13,
   "metadata": {},
   "outputs": [],
   "source": [
    "filename = []\n",
    "startX = []\n",
    "startY = []\n",
    "width = []\n",
    "height = []\n",
    "for element in data:\n",
    "    filename.append(element['#filename'])\n",
    "    startX.append(element['region_shape_attributes']['x'])\n",
    "    startY.append(element['region_shape_attributes']['y'])\n",
    "    width.append(element['region_shape_attributes']['width'])\n",
    "    height.append(element['region_shape_attributes']['height'])\n",
    "    "
   ]
  },
  {
   "cell_type": "code",
   "execution_count": 14,
   "metadata": {},
   "outputs": [],
   "source": [
    "filename = np.array(filename)\n",
    "startX = np.array(startX)\n",
    "startY = np.array(startY)\n",
    "width = np.array(width)\n",
    "height = np.array(height)"
   ]
  },
  {
   "cell_type": "code",
   "execution_count": 15,
   "metadata": {},
   "outputs": [
    {
     "name": "stdout",
     "output_type": "stream",
     "text": [
      "131\n",
      "131\n",
      "131\n",
      "131\n",
      "131\n"
     ]
    }
   ],
   "source": [
    "print(len(filename))\n",
    "print(len(startX))\n",
    "print(len(startY))\n",
    "print(len(width))\n",
    "print(len(height))\n"
   ]
  },
  {
   "cell_type": "code",
   "execution_count": 11,
   "metadata": {},
   "outputs": [],
   "source": [
    "filename = filename[:-1]"
   ]
  },
  {
   "cell_type": "code",
   "execution_count": 16,
   "metadata": {},
   "outputs": [
    {
     "name": "stdout",
     "output_type": "stream",
     "text": [
      "131\n",
      "131\n",
      "131\n",
      "131\n",
      "131\n"
     ]
    }
   ],
   "source": [
    "print(len(filename))\n",
    "print(len(startX))\n",
    "print(len(startY))\n",
    "print(len(width))\n",
    "print(len(height))"
   ]
  },
  {
   "cell_type": "code",
   "execution_count": 17,
   "metadata": {},
   "outputs": [],
   "source": [
    "pd.DataFrame(height, width).to_csv(\"export_larynx_height_weight.csv\")"
   ]
  },
  {
   "cell_type": "code",
   "execution_count": 18,
   "metadata": {},
   "outputs": [],
   "source": [
    "pd.DataFrame(filename, startX).to_csv(\"export_filename_startX.csv\")"
   ]
  },
  {
   "cell_type": "code",
   "execution_count": 19,
   "metadata": {},
   "outputs": [],
   "source": [
    "pd.DataFrame(startY).to_csv(\"export_startY.csv\")"
   ]
  },
  {
   "cell_type": "code",
   "execution_count": null,
   "metadata": {},
   "outputs": [],
   "source": []
  }
 ],
 "metadata": {
  "kernelspec": {
   "display_name": "Python 3",
   "language": "python",
   "name": "python3"
  },
  "language_info": {
   "codemirror_mode": {
    "name": "ipython",
    "version": 3
   },
   "file_extension": ".py",
   "mimetype": "text/x-python",
   "name": "python",
   "nbconvert_exporter": "python",
   "pygments_lexer": "ipython3",
   "version": "3.6.7"
  }
 },
 "nbformat": 4,
 "nbformat_minor": 2
}
